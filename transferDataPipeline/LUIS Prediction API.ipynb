{
 "cells": [
  {
   "cell_type": "code",
   "execution_count": 1,
   "source": [
    "from azure.cognitiveservices.language.luis.authoring import LUISAuthoringClient\n",
    "from azure.cognitiveservices.language.luis.authoring.models import ApplicationCreateObject\n",
    "from azure.cognitiveservices.language.luis.runtime import LUISRuntimeClient\n",
    "from msrest.authentication import CognitiveServicesCredentials\n",
    "from functools import reduce\n",
    "\n",
    "import json, time, uuid"
   ],
   "outputs": [],
   "metadata": {}
  },
  {
   "cell_type": "code",
   "execution_count": 11,
   "source": [
    "#  1 - Setup LUIS API Variables\n",
    "#     authoringKey = 'PASTE_YOUR_LUIS_AUTHORING_SUBSCRIPTION_KEY_HERE'\n",
    "#     authoringEndpoint = 'PASTE_YOUR_LUIS_AUTHORING_ENDPOINT_HERE'\n",
    "#     predictionKey = 'PASTE_YOUR_LUIS_PREDICTION_SUBSCRIPTION_KEY_HERE'\n",
    "#     predictionEndpoint = 'PASTE_YOUR_LUIS_PREDICTION_ENDPOINT_HERE'\n",
    "appId = 'YOUR_APP_ID'\n",
    "authoringKey = 'YOUR_AUTHORING_KEY'\n",
    "authoringEndpoint = 'YOUR_AUTHORING_ENDPOINT'\n",
    "predictionKey = 'YOUR_PREDICTION_KEY'\n",
    "predictionEndpoint = 'YOUR_PREDICTION_ENDPOINT'\n",
    "client = None\n",
    "    \n",
    "def quickstart():\n",
    "    global client\n",
    "\n",
    "    \n",
    "    # We use a UUID to avoid name collisions.\n",
    "    appName = \"Intern Copy of V2\" + str(uuid.uuid4())\n",
    "    versionId = \"0.6.1\"\n",
    "    intentName = None\n",
    "    \n",
    "#  2 - Connect to LUIS API, creating 'client' object\n",
    "    client = LUISAuthoringClient(authoringEndpoint, CognitiveServicesCredentials(authoringKey))\n",
    "\n",
    "quickstart()"
   ],
   "outputs": [],
   "metadata": {}
  },
  {
   "cell_type": "code",
   "execution_count": 12,
   "source": [
    "client"
   ],
   "outputs": [
    {
     "output_type": "execute_result",
     "data": {
      "text/plain": [
       "<azure.cognitiveservices.language.luis.authoring._luis_authoring_client.LUISAuthoringClient at 0x1ad1c2b3820>"
      ]
     },
     "metadata": {},
     "execution_count": 12
    }
   ],
   "metadata": {}
  },
  {
   "cell_type": "code",
   "execution_count": 33,
   "source": [
    "runtimeCredentials = CognitiveServicesCredentials(predictionKey)\n",
    "clientRuntime = LUISRuntimeClient(endpoint=predictionEndpoint, credentials=runtimeCredentials)\n",
    "\n",
    "predictionRequest = { \"query\" : \"I'm trying to load the TEAMS app on my phone\" }\n",
    "\n",
    "predictionResponse = clientRuntime.prediction.get_slot_prediction(appId, \"Production\", predictionRequest, verbose = True)\n",
    "# print(\"Top intent: {}\".format(predictionResponse.prediction.top_intent))\n",
    "# print(\"Sentiment: {}\".format (predictionResponse.prediction.sentiment))\n",
    "# print(\"Intents: \")\n",
    "\n",
    "# for intent in predictionResponse.prediction.intents:\n",
    "#     print(\"\\t{}\".format (json.dumps (intent)))\n",
    "# print(\"Entities: {}\".format (predictionResponse.prediction.entities))\n",
    "\n",
    "predictedEntitiesFormatted = []\n",
    "\n",
    "for entity in predictionResponse.prediction.entities:\n",
    "    current_entity_json = {\n",
    "        \"entity\": entity\n",
    "    }\n",
    "    \n",
    "    predictedEntitiesFormatted.append(current_entity_json)\n",
    "    \n",
    "\n",
    "predictedJSON = {\n",
    "    \"text\" : predictionRequest[\"query\"],\n",
    "    \"intent\" : predictionResponse.prediction.top_intent,\n",
    "    \"entities\" : predictedEntitiesFormatted\n",
    "}\n"
   ],
   "outputs": [],
   "metadata": {}
  },
  {
   "cell_type": "code",
   "execution_count": 34,
   "source": [
    "predictedJSON"
   ],
   "outputs": [
    {
     "output_type": "execute_result",
     "data": {
      "text/plain": [
       "{'text': \"I'm trying to load the TEAMS app on my phone\",\n",
       " 'intent': 'Intent.MobileManagement',\n",
       " 'entities': [{'entity': 'ML.Hardware.Mobile'},\n",
       "  {'entity': 'ML.Issues.MobileActions'},\n",
       "  {'entity': 'keyPhrase'},\n",
       "  {'entity': 'List.Apps.All'},\n",
       "  {'entity': '$instance'}]}"
      ]
     },
     "metadata": {},
     "execution_count": 34
    }
   ],
   "metadata": {}
  },
  {
   "cell_type": "code",
   "execution_count": 30,
   "source": [
    "predictionResponse.prediction.entities"
   ],
   "outputs": [
    {
     "output_type": "execute_result",
     "data": {
      "text/plain": [
       "{'ML.Hardware.Mobile': [{}],\n",
       " 'ML.Issues.MobileActions': [{'Device': ['phone'],\n",
       "   '$instance': {'Device': [{'type': 'Device',\n",
       "      'text': 'phone',\n",
       "      'startIndex': 39,\n",
       "      'length': 5,\n",
       "      'score': 0.4531593,\n",
       "      'modelTypeId': 1,\n",
       "      'modelType': 'Entity Extractor',\n",
       "      'recognitionSources': ['model']}]}}],\n",
       " 'keyPhrase': [\"I'm\", 'TEAMS app', 'phone'],\n",
       " 'List.Apps.All': [['TEAMS']],\n",
       " '$instance': {'ML.Hardware.Mobile': [{'type': 'ML.Hardware.Mobile',\n",
       "    'text': 'phone',\n",
       "    'startIndex': 39,\n",
       "    'length': 5,\n",
       "    'score': 0.9214756,\n",
       "    'modelTypeId': 1,\n",
       "    'modelType': 'Entity Extractor',\n",
       "    'recognitionSources': ['model']}],\n",
       "  'ML.Issues.MobileActions': [{'type': 'ML.Issues.MobileActions',\n",
       "    'text': 'load the TEAMS app on my phone',\n",
       "    'startIndex': 14,\n",
       "    'length': 30,\n",
       "    'score': 0.58542186,\n",
       "    'modelTypeId': 1,\n",
       "    'modelType': 'Entity Extractor',\n",
       "    'recognitionSources': ['model']}],\n",
       "  'keyPhrase': [{'type': 'builtin.keyPhrase',\n",
       "    'text': \"I'm\",\n",
       "    'startIndex': 0,\n",
       "    'length': 3,\n",
       "    'modelTypeId': 2,\n",
       "    'modelType': 'Prebuilt Entity Extractor',\n",
       "    'recognitionSources': ['model']},\n",
       "   {'type': 'builtin.keyPhrase',\n",
       "    'text': 'TEAMS app',\n",
       "    'startIndex': 23,\n",
       "    'length': 9,\n",
       "    'modelTypeId': 2,\n",
       "    'modelType': 'Prebuilt Entity Extractor',\n",
       "    'recognitionSources': ['model']},\n",
       "   {'type': 'builtin.keyPhrase',\n",
       "    'text': 'phone',\n",
       "    'startIndex': 39,\n",
       "    'length': 5,\n",
       "    'modelTypeId': 2,\n",
       "    'modelType': 'Prebuilt Entity Extractor',\n",
       "    'recognitionSources': ['model']}],\n",
       "  'List.Apps.All': [{'type': 'List.Apps.All',\n",
       "    'text': 'TEAMS',\n",
       "    'startIndex': 23,\n",
       "    'length': 5,\n",
       "    'modelTypeId': 5,\n",
       "    'modelType': 'List Entity Extractor',\n",
       "    'recognitionSources': ['model']}]}}"
      ]
     },
     "metadata": {},
     "execution_count": 30
    }
   ],
   "metadata": {}
  },
  {
   "cell_type": "code",
   "execution_count": 16,
   "source": [
    "print(\"\\t{}\")"
   ],
   "outputs": [
    {
     "output_type": "stream",
     "name": "stdout",
     "text": [
      "\t{}\n"
     ]
    }
   ],
   "metadata": {}
  },
  {
   "cell_type": "code",
   "execution_count": null,
   "source": [],
   "outputs": [],
   "metadata": {}
  }
 ],
 "metadata": {
  "kernelspec": {
   "display_name": "Python 3",
   "language": "python",
   "name": "python3"
  },
  "language_info": {
   "codemirror_mode": {
    "name": "ipython",
    "version": 3
   },
   "file_extension": ".py",
   "mimetype": "text/x-python",
   "name": "python",
   "nbconvert_exporter": "python",
   "pygments_lexer": "ipython3",
   "version": "3.8.5"
  }
 },
 "nbformat": 4,
 "nbformat_minor": 4
}
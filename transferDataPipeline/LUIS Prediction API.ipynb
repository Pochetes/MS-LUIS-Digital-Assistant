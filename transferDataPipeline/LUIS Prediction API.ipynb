{
 "cells": [
  {
   "cell_type": "code",
   "execution_count": 1,
   "metadata": {},
   "outputs": [],
   "source": [
    "from azure.cognitiveservices.language.luis.authoring import LUISAuthoringClient\n",
    "from azure.cognitiveservices.language.luis.authoring.models import ApplicationCreateObject\n",
    "from azure.cognitiveservices.language.luis.runtime import LUISRuntimeClient\n",
    "from msrest.authentication import CognitiveServicesCredentials\n",
    "from functools import reduce\n",
    "\n",
    "import json, time, uuid"
   ]
  },
  {
   "cell_type": "code",
   "execution_count": 11,
   "metadata": {},
   "outputs": [],
   "source": [
    "#  1 - Setup LUIS API Variables\n",
    "#     authoringKey = 'PASTE_YOUR_LUIS_AUTHORING_SUBSCRIPTION_KEY_HERE'\n",
    "#     authoringEndpoint = 'PASTE_YOUR_LUIS_AUTHORING_ENDPOINT_HERE'\n",
    "#     predictionKey = 'PASTE_YOUR_LUIS_PREDICTION_SUBSCRIPTION_KEY_HERE'\n",
    "#     predictionEndpoint = 'PASTE_YOUR_LUIS_PREDICTION_ENDPOINT_HERE'\n",
    "appId = 'bc12f380-fc99-4ecc-8b0e-4dd6cde01400'\n",
    "authoringKey = 'b69a51f58d3047048779bd3c01080ff0'\n",
    "authoringEndpoint = 'https://hydluissbx01-authoring.cognitiveservices.azure.com/'\n",
    "predictionKey = '3106ba28b86b42ce9ca45c3d00987f21'\n",
    "predictionEndpoint = 'https://hydluissbx01.cognitiveservices.azure.com/'\n",
    "client = None\n",
    "    \n",
    "def quickstart():\n",
    "    global client\n",
    "\n",
    "    \n",
    "    # We use a UUID to avoid name collisions.\n",
    "    appName = \"Intern Copy of V2\" + str(uuid.uuid4())\n",
    "    versionId = \"0.6.1\"\n",
    "    intentName = None\n",
    "    \n",
    "#  2 - Connect to LUIS API, creating 'client' object\n",
    "    client = LUISAuthoringClient(authoringEndpoint, CognitiveServicesCredentials(authoringKey))\n",
    "\n",
    "quickstart()"
   ]
  },
  {
   "cell_type": "code",
   "execution_count": 12,
   "metadata": {},
   "outputs": [
    {
     "data": {
      "text/plain": [
       "<azure.cognitiveservices.language.luis.authoring._luis_authoring_client.LUISAuthoringClient at 0x1ad1c2b3820>"
      ]
     },
     "execution_count": 12,
     "metadata": {},
     "output_type": "execute_result"
    }
   ],
   "source": [
    "client"
   ]
  },
  {
   "cell_type": "code",
   "execution_count": 33,
   "metadata": {},
   "outputs": [],
   "source": [
    "runtimeCredentials = CognitiveServicesCredentials(predictionKey)\n",
    "clientRuntime = LUISRuntimeClient(endpoint=predictionEndpoint, credentials=runtimeCredentials)\n",
    "\n",
    "predictionRequest = { \"query\" : \"I'm trying to load the TEAMS app on my phone\" }\n",
    "\n",
    "predictionResponse = clientRuntime.prediction.get_slot_prediction(appId, \"Production\", predictionRequest, verbose = True)\n",
    "# print(\"Top intent: {}\".format(predictionResponse.prediction.top_intent))\n",
    "# print(\"Sentiment: {}\".format (predictionResponse.prediction.sentiment))\n",
    "# print(\"Intents: \")\n",
    "\n",
    "# for intent in predictionResponse.prediction.intents:\n",
    "#     print(\"\\t{}\".format (json.dumps (intent)))\n",
    "# print(\"Entities: {}\".format (predictionResponse.prediction.entities))\n",
    "\n",
    "predictedEntitiesFormatted = []\n",
    "\n",
    "for entity in predictionResponse.prediction.entities:\n",
    "    current_entity_json = {\n",
    "        \"entity\": entity\n",
    "    }\n",
    "    \n",
    "    predictedEntitiesFormatted.append(current_entity_json)\n",
    "    \n",
    "\n",
    "predictedJSON = {\n",
    "    \"text\" : predictionRequest[\"query\"],\n",
    "    \"intent\" : predictionResponse.prediction.top_intent,\n",
    "    \"entities\" : predictedEntitiesFormatted\n",
    "}\n"
   ]
  },
  {
   "cell_type": "code",
   "execution_count": 34,
   "metadata": {},
   "outputs": [
    {
     "data": {
      "text/plain": [
       "{'text': \"I'm trying to load the TEAMS app on my phone\",\n",
       " 'intent': 'Intent.MobileManagement',\n",
       " 'entities': [{'entity': 'ML.Hardware.Mobile'},\n",
       "  {'entity': 'ML.Issues.MobileActions'},\n",
       "  {'entity': 'keyPhrase'},\n",
       "  {'entity': 'List.Apps.All'},\n",
       "  {'entity': '$instance'}]}"
      ]
     },
     "execution_count": 34,
     "metadata": {},
     "output_type": "execute_result"
    }
   ],
   "source": [
    "predictedJSON"
   ]
  },
  {
   "cell_type": "code",
   "execution_count": 30,
   "metadata": {},
   "outputs": [
    {
     "data": {
      "text/plain": [
       "{'ML.Hardware.Mobile': [{}],\n",
       " 'ML.Issues.MobileActions': [{'Device': ['phone'],\n",
       "   '$instance': {'Device': [{'type': 'Device',\n",
       "      'text': 'phone',\n",
       "      'startIndex': 39,\n",
       "      'length': 5,\n",
       "      'score': 0.4531593,\n",
       "      'modelTypeId': 1,\n",
       "      'modelType': 'Entity Extractor',\n",
       "      'recognitionSources': ['model']}]}}],\n",
       " 'keyPhrase': [\"I'm\", 'TEAMS app', 'phone'],\n",
       " 'List.Apps.All': [['TEAMS']],\n",
       " '$instance': {'ML.Hardware.Mobile': [{'type': 'ML.Hardware.Mobile',\n",
       "    'text': 'phone',\n",
       "    'startIndex': 39,\n",
       "    'length': 5,\n",
       "    'score': 0.9214756,\n",
       "    'modelTypeId': 1,\n",
       "    'modelType': 'Entity Extractor',\n",
       "    'recognitionSources': ['model']}],\n",
       "  'ML.Issues.MobileActions': [{'type': 'ML.Issues.MobileActions',\n",
       "    'text': 'load the TEAMS app on my phone',\n",
       "    'startIndex': 14,\n",
       "    'length': 30,\n",
       "    'score': 0.58542186,\n",
       "    'modelTypeId': 1,\n",
       "    'modelType': 'Entity Extractor',\n",
       "    'recognitionSources': ['model']}],\n",
       "  'keyPhrase': [{'type': 'builtin.keyPhrase',\n",
       "    'text': \"I'm\",\n",
       "    'startIndex': 0,\n",
       "    'length': 3,\n",
       "    'modelTypeId': 2,\n",
       "    'modelType': 'Prebuilt Entity Extractor',\n",
       "    'recognitionSources': ['model']},\n",
       "   {'type': 'builtin.keyPhrase',\n",
       "    'text': 'TEAMS app',\n",
       "    'startIndex': 23,\n",
       "    'length': 9,\n",
       "    'modelTypeId': 2,\n",
       "    'modelType': 'Prebuilt Entity Extractor',\n",
       "    'recognitionSources': ['model']},\n",
       "   {'type': 'builtin.keyPhrase',\n",
       "    'text': 'phone',\n",
       "    'startIndex': 39,\n",
       "    'length': 5,\n",
       "    'modelTypeId': 2,\n",
       "    'modelType': 'Prebuilt Entity Extractor',\n",
       "    'recognitionSources': ['model']}],\n",
       "  'List.Apps.All': [{'type': 'List.Apps.All',\n",
       "    'text': 'TEAMS',\n",
       "    'startIndex': 23,\n",
       "    'length': 5,\n",
       "    'modelTypeId': 5,\n",
       "    'modelType': 'List Entity Extractor',\n",
       "    'recognitionSources': ['model']}]}}"
      ]
     },
     "execution_count": 30,
     "metadata": {},
     "output_type": "execute_result"
    }
   ],
   "source": [
    "predictionResponse.prediction.entities"
   ]
  },
  {
   "cell_type": "code",
   "execution_count": 16,
   "metadata": {},
   "outputs": [
    {
     "name": "stdout",
     "output_type": "stream",
     "text": [
      "\t{}\n"
     ]
    }
   ],
   "source": [
    "print(\"\\t{}\")"
   ]
  },
  {
   "cell_type": "code",
   "execution_count": null,
   "metadata": {},
   "outputs": [],
   "source": []
  }
 ],
 "metadata": {
  "kernelspec": {
   "display_name": "Python 3",
   "language": "python",
   "name": "python3"
  },
  "language_info": {
   "codemirror_mode": {
    "name": "ipython",
    "version": 3
   },
   "file_extension": ".py",
   "mimetype": "text/x-python",
   "name": "python",
   "nbconvert_exporter": "python",
   "pygments_lexer": "ipython3",
   "version": "3.8.5"
  }
 },
 "nbformat": 4,
 "nbformat_minor": 4
}

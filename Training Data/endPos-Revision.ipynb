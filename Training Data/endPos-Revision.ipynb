{
 "cells": [
  {
   "cell_type": "code",
   "execution_count": 2,
   "metadata": {},
   "outputs": [],
   "source": [
    "import json\n",
    "\n",
    "file = open(\"Batch_Train_3.json\", \"r\")\n",
    "\n",
    "mylist = json.load(file)\n",
    "\n",
    "for utterance in mylist:\n",
    "    entityList = utterance[\"entities\"]\n",
    "    for entity in entityList:\n",
    "        entity[\"endPos\"] = entity[\"endPos\"] - 1\n",
    "        if \"children\" in entity.keys():\n",
    "            for child in entity[\"children\"]:\n",
    "                child[\"endPos\"] = child[\"endPos\"] - 1\n",
    "                \n",
    "file_out = open(\"Batch_Train_3_Revised.json\", \"w\")\n",
    "\n",
    "file_out.write(json.dumps(mylist))\n",
    "\n",
    "file.close()\n",
    "file_out.close()\n",
    "    "
   ]
  },
  {
   "cell_type": "code",
   "execution_count": 3,
   "metadata": {},
   "outputs": [],
   "source": [
    "import json\n",
    "\n",
    "file = open(\"Batch_Train_2_Revised.json\", \"r\")\n",
    "file_out = open(\"Batch_Train_2_Revised_Children.json\", \"w\")\n",
    "\n",
    "utterance_list = json.load(file)\n",
    "\n",
    "for utterance in utterance_list:\n",
    "    entityList = utterance[\"entityLabels\"]\n",
    "    for entity in entityList:\n",
    "        if \"children\" in entity.keys():\n",
    "            entity[\"entityName\"] = entity[\"children\"][0][\"entityName\"]\n",
    "\n",
    "file_out.write(json.dumps(utterance_list))\n",
    "\n",
    "file.close()\n",
    "file_out.close()"
   ]
  },
  {
   "cell_type": "code",
   "execution_count": null,
   "metadata": {},
   "outputs": [],
   "source": []
  }
 ],
 "metadata": {
  "kernelspec": {
   "display_name": "Python 3",
   "language": "python",
   "name": "python3"
  },
  "language_info": {
   "codemirror_mode": {
    "name": "ipython",
    "version": 3
   },
   "file_extension": ".py",
   "mimetype": "text/x-python",
   "name": "python",
   "nbconvert_exporter": "python",
   "pygments_lexer": "ipython3",
   "version": "3.8.5"
  }
 },
 "nbformat": 4,
 "nbformat_minor": 4
}
